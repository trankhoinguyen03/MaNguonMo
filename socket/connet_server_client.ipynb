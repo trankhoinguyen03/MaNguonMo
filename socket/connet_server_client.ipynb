{
 "cells": [
  {
   "cell_type": "code",
   "execution_count": null,
   "metadata": {},
   "outputs": [],
   "source": [
    "import socket\n",
    "\n",
    "# Địa chỉ IP và cổng của server\n",
    "server_ip = '127.0.0.1'  # Địa chỉ IP của server\n",
    "server_port = 5500  # Cổng của server\n",
    "\n",
    "# Tạo socket cho client\n",
    "client_socket = socket.socket(socket.AF_INET, socket.SOCK_STREAM)\n",
    "\n",
    "try:\n",
    "    # Kết nối đến địa chỉ IP và cổng của server\n",
    "    client_socket.connect((server_ip, server_port))\n",
    "    print(\"Connected to the server!\")\n",
    "except Exception as e:\n",
    "    print(f\"Error: {e}\")\n",
    "\n",
    "# Sau khi kết nối, client có thể gửi và nhận dữ liệu với server\n"
   ]
  },
  {
   "cell_type": "code",
   "execution_count": null,
   "metadata": {},
   "outputs": [],
   "source": [
    "import socket\n",
    "\n",
    "server_socket = socket.socket(socket.AF_INET, socket.SOCK_STREAM)\n",
    "server_socket.bind((\"\", 8080))\n",
    "server_socket.listen(5)\n",
    "\n",
    "while True:\n",
    "    client_socket, client_address = server_socket.accept()\n",
    "    # Xử lý dữ liệu từ client\n"
   ]
  }
 ],
 "metadata": {
  "language_info": {
   "name": "python"
  }
 },
 "nbformat": 4,
 "nbformat_minor": 2
}
